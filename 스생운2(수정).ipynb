{
 "cells": [
  {
   "cell_type": "code",
   "execution_count": 1,
   "id": "2b8ea653",
   "metadata": {
    "ExecuteTime": {
     "end_time": "2021-12-11T10:27:08.856509Z",
     "start_time": "2021-12-11T10:27:08.535364Z"
    }
   },
   "outputs": [],
   "source": [
    "import math\n",
    "import numpy as np\n",
    "import pandas as pd\n",
    "import pprint\n",
    "import itertools\n",
    "from collections import deque\n",
    "from copy import deepcopy"
   ]
  },
  {
   "cell_type": "code",
   "execution_count": 2,
   "id": "e1063bb1",
   "metadata": {
    "ExecuteTime": {
     "end_time": "2021-12-11T10:27:08.871870Z",
     "start_time": "2021-12-11T10:27:08.857481Z"
    }
   },
   "outputs": [],
   "source": [
    "vendor_dist = [[0.0, 1.6, 0.6, 2.0, 1.7, 1.6, 1.5],\n",
    "               [1.6, 0.0, 1.9, 3.5, 0.7, 1.3, 3.1],\n",
    "               [0.6, 1.9, 0.0, 1.6, 2.2, 2.2, 1.6],\n",
    "               [2.0, 3.5, 1.6, 0.0, 3.7, 3.6, 1.4],\n",
    "               [1.7, 0.7, 2.2, 3.7, 0.0, 0.7, 3.1],\n",
    "               [1.6, 1.3, 2.2, 3.6, 0.7, 0.0, 2.7],\n",
    "               [1.5, 3.1, 1.6, 1.4, 3.1, 2.7, 0.0]]"
   ]
  },
  {
   "cell_type": "code",
   "execution_count": 3,
   "id": "46c7663e",
   "metadata": {
    "ExecuteTime": {
     "end_time": "2021-12-11T10:27:09.083161Z",
     "start_time": "2021-12-11T10:27:09.066415Z"
    }
   },
   "outputs": [],
   "source": [
    "items = [[1, 1000, 10, 0],\n",
    "         [2, 200, 60 , 0], \n",
    "         [3, 300, 300 , 0], \n",
    "         [4, 400, 400, 0], \n",
    "         [5, 50, 4000, 0], \n",
    "         [6, 600, 200, 0], \n",
    "         [6, 700, 40 , 0]]"
   ]
  },
  {
   "cell_type": "code",
   "execution_count": 4,
   "id": "a8c83983",
   "metadata": {
    "ExecuteTime": {
     "end_time": "2021-12-11T10:27:09.325361Z",
     "start_time": "2021-12-11T10:27:09.319346Z"
    }
   },
   "outputs": [],
   "source": [
    "cr = 0.01\n",
    "vvc = 12"
   ]
  },
  {
   "cell_type": "code",
   "execution_count": 5,
   "id": "b961e4cd",
   "metadata": {
    "ExecuteTime": {
     "end_time": "2021-12-11T10:27:09.565475Z",
     "start_time": "2021-12-11T10:27:09.560430Z"
    }
   },
   "outputs": [],
   "source": [
    "total_time = 0\n",
    "dt_minmax = []\n",
    "n_minmax = []\n",
    "n = []\n",
    "visitday = {'Monday' : [], 'Tuesday' : [], 'Wednesday' : [], 'Thursday' : [], 'Friday' : []}\n",
    "day_traveltime = {'Monday' : [], 'Tuesday' : [], 'Wednesday' : [], 'Thursday' : [], 'Friday' : []}\n",
    "opt_traveltime = {'Monday' : [], 'Tuesday' : [], 'Wednesday' : [], 'Thursday' : [], 'Friday' : []}"
   ]
  },
  {
   "cell_type": "markdown",
   "id": "7641943e",
   "metadata": {},
   "source": [
    "# step2. Initialize"
   ]
  },
  {
   "cell_type": "code",
   "execution_count": 6,
   "id": "ead79182",
   "metadata": {
    "ExecuteTime": {
     "end_time": "2021-12-11T10:27:10.579594Z",
     "start_time": "2021-12-11T10:27:10.567403Z"
    }
   },
   "outputs": [],
   "source": [
    "alpha = 0\n",
    "opt_cost = math.inf"
   ]
  },
  {
   "cell_type": "code",
   "execution_count": 7,
   "id": "276d75cd",
   "metadata": {
    "ExecuteTime": {
     "end_time": "2021-12-11T10:27:11.341789Z",
     "start_time": "2021-12-11T10:27:11.334808Z"
    }
   },
   "outputs": [],
   "source": [
    "def cal_dt_minmax(vendor_dist):\n",
    "    global dt_minmax\n",
    "    for i in range(1,len(vendor_dist)):\n",
    "        dtmax = vendor_dist[0][i] + vendor_dist[i][0]\n",
    "        temp = vendor_dist[i][1:].copy()\n",
    "        temp = [i for i in temp if i != 0]\n",
    "        temp.sort()\n",
    "        dtmin = temp[0] + temp[1]\n",
    "        if dtmax <= dtmin:\n",
    "            dtmax = dtmin\n",
    "        dt_minmax.append([dtmin, dtmax])\n",
    "        \n",
    "    print('\\ndtmin(k), dtmax(k) :\\n', *dt_minmax, sep='\\n')"
   ]
  },
  {
   "cell_type": "code",
   "execution_count": 8,
   "id": "39d080e9",
   "metadata": {
    "ExecuteTime": {
     "end_time": "2021-12-11T10:27:11.778971Z",
     "start_time": "2021-12-11T10:27:11.767650Z"
    }
   },
   "outputs": [],
   "source": [
    "def cal_n_minmax(vendor_dist,dt_minmax,cr,vvc):\n",
    "    global n_minmax\n",
    "    for i in range(1,len(vendor_dist)): \n",
    "        dc = 0\n",
    "        sc = 0\n",
    "\n",
    "        for j in items:\n",
    "            if j[0] == i:\n",
    "                dc += j[1]*j[2]\n",
    "                sc += j[3]\n",
    "\n",
    "        nmax = math.sqrt((0.5 * cr * dc)/(vvc*dt_minmax[i-1][0]))\n",
    "        nmin = math.sqrt((0.5 * cr * dc)/(vvc*dt_minmax[i-1][1]))\n",
    "\n",
    "        n_minmax.append([nmin, nmax])\n",
    "        \n",
    "    print('\\nnmin(k), nmax(k) :\\n', *n_minmax, sep='\\n')    "
   ]
  },
  {
   "cell_type": "code",
   "execution_count": 9,
   "id": "f99061c1",
   "metadata": {
    "ExecuteTime": {
     "end_time": "2021-12-11T10:27:12.428255Z",
     "start_time": "2021-12-11T10:27:12.423242Z"
    }
   },
   "outputs": [
    {
     "name": "stdout",
     "output_type": "stream",
     "text": [
      "\n",
      "dtmin(k), dtmax(k) :\n",
      "\n",
      "[2.0, 3.2]\n",
      "[3.2, 3.2]\n",
      "[3.0, 4.0]\n",
      "[1.4, 3.4]\n",
      "[2.0, 3.2]\n",
      "[3.0, 3.0]\n",
      "\n",
      "nmin(k), nmax(k) :\n",
      "\n",
      "[1.141088661469096, 1.4433756729740645]\n",
      "[1.25, 1.25]\n",
      "[3.0618621784789726, 3.5355339059327378]\n",
      "[4.428074427700476, 6.900655593423543]\n",
      "[5.103103630798287, 6.454972243679028]\n",
      "[4.533823502911814, 4.533823502911814]\n"
     ]
    }
   ],
   "source": [
    "cal_dt_minmax(vendor_dist)\n",
    "cal_n_minmax(vendor_dist,dt_minmax,cr,vvc)"
   ]
  },
  {
   "cell_type": "markdown",
   "id": "8a563175",
   "metadata": {},
   "source": [
    "# Step3. Calculate 'n'"
   ]
  },
  {
   "cell_type": "code",
   "execution_count": 10,
   "id": "aab7c9ed",
   "metadata": {
    "ExecuteTime": {
     "end_time": "2021-12-11T10:27:15.229372Z",
     "start_time": "2021-12-11T10:27:15.223364Z"
    }
   },
   "outputs": [],
   "source": [
    "def cal_n(n_minmax):\n",
    "    global n\n",
    "    global n_k\n",
    "    \n",
    "    for i in range(len(n_minmax)):\n",
    "        picks = round(n_minmax[i][0] + (alpha*(n_minmax[i][1]-n_minmax[i][0])))\n",
    "        if picks >= 6:\n",
    "            picksnew = 5\n",
    "        else:\n",
    "            picksnew = picks\n",
    "        n.append([picks,picksnew])\n",
    "        n_k = deepcopy(n)\n",
    "        \n",
    "    print('\\nn(k), Revised n(k) :\\n', *n, sep = '\\n')"
   ]
  },
  {
   "cell_type": "code",
   "execution_count": 11,
   "id": "1646307a",
   "metadata": {
    "ExecuteTime": {
     "end_time": "2021-12-11T10:27:16.881750Z",
     "start_time": "2021-12-11T10:27:16.870718Z"
    }
   },
   "outputs": [
    {
     "name": "stdout",
     "output_type": "stream",
     "text": [
      "\n",
      "n(k), Revised n(k) :\n",
      "\n",
      "[1, 1]\n",
      "[1, 1]\n",
      "[3, 3]\n",
      "[4, 4]\n",
      "[5, 5]\n",
      "[5, 5]\n"
     ]
    }
   ],
   "source": [
    "cal_n(n_minmax)"
   ]
  },
  {
   "cell_type": "markdown",
   "id": "75b7b09f",
   "metadata": {},
   "source": [
    "# Step4. Assign days"
   ]
  },
  {
   "cell_type": "code",
   "execution_count": 12,
   "id": "adfad809",
   "metadata": {
    "ExecuteTime": {
     "end_time": "2021-12-11T10:28:13.732332Z",
     "start_time": "2021-12-11T10:28:13.711388Z"
    }
   },
   "outputs": [],
   "source": [
    "def assign_days(n):\n",
    "    global visitday\n",
    "\n",
    "    for i in range(len(n)):\n",
    "        if n[i][1] == 1:\n",
    "            visitday['Wednesday'].append(i+1)\n",
    "\n",
    "        elif n[i][1] == 2:\n",
    "            visitday['Tuesday'].append(i+1)\n",
    "            visitday['Thursday'].append(i+1)\n",
    "\n",
    "        elif n[i][1] == 3:\n",
    "            visitday['Monday'].append(i+1)\n",
    "            visitday['Wednesday'].append(i+1)\n",
    "            visitday['Friday'].append(i+1)\n",
    "\n",
    "        elif n[i][1] == 4:\n",
    "            visitday['Monday'].append(i+1)\n",
    "            visitday['Tuesday'].append(i+1)\n",
    "            visitday['Thursday'].append(i+1)\n",
    "            visitday['Friday'].append(i+1)\n",
    "\n",
    "        elif n[i][1] == 5:\n",
    "            visitday['Monday'].append(i+1)\n",
    "            visitday['Tuesday'].append(i+1)\n",
    "            visitday['Wednesday'].append(i+1)\n",
    "            visitday['Thursday'].append(i+1)\n",
    "            visitday['Friday'].append(i+1)\n",
    "            \n",
    "\n",
    "    "
   ]
  },
  {
   "cell_type": "code",
   "execution_count": 13,
   "id": "4ba52656",
   "metadata": {
    "ExecuteTime": {
     "end_time": "2021-12-11T10:28:18.827046Z",
     "start_time": "2021-12-11T10:28:18.815099Z"
    }
   },
   "outputs": [],
   "source": [
    "assign_days(n)"
   ]
  },
  {
   "cell_type": "markdown",
   "id": "9789e48d",
   "metadata": {},
   "source": [
    "# Step5. Apply Clarke-Wright Heuristic"
   ]
  },
  {
   "cell_type": "code",
   "execution_count": 14,
   "id": "3b84cb74",
   "metadata": {
    "ExecuteTime": {
     "end_time": "2021-12-11T10:43:39.956987Z",
     "start_time": "2021-12-11T10:43:39.950999Z"
    }
   },
   "outputs": [],
   "source": [
    "def cal_travel_time(visitday, vendor_dist):\n",
    "    for key in visitday.keys():\n",
    "        global day_traveltime\n",
    "\n",
    "        clark = []\n",
    "        total_dist = 0\n",
    "\n",
    "        for i in visitday[key]:\n",
    "            total_dist += 2 * vendor_dist[0][i]\n",
    "            for j in visitday[key]:\n",
    "                if i < j:\n",
    "                    sij = vendor_dist[0][i] + vendor_dist[0][j] - vendor_dist[i][j]\n",
    "                    clark.append([i,j, sij])\n",
    "\n",
    "        day_traveltime[key].append(clark)\n",
    "        day_traveltime[key].append(total_dist)\n",
    "    \n",
    "    #print('\\nTime for Visit each Vendor (Individually):')\n",
    "    #pprint.pprint(day_traveltime, sort_dicts = False)"
   ]
  },
  {
   "cell_type": "code",
   "execution_count": 15,
   "id": "fdcf04dc",
   "metadata": {
    "ExecuteTime": {
     "end_time": "2021-12-11T10:29:50.794648Z",
     "start_time": "2021-12-11T10:29:50.774701Z"
    },
    "scrolled": true
   },
   "outputs": [],
   "source": [
    "cal_travel_time(visitday, vendor_dist)"
   ]
  },
  {
   "cell_type": "code",
   "execution_count": 16,
   "id": "dc4839bc",
   "metadata": {
    "ExecuteTime": {
     "end_time": "2021-12-11T10:44:39.780352Z",
     "start_time": "2021-12-11T10:44:39.774367Z"
    }
   },
   "outputs": [],
   "source": [
    "def cal_opt_time(day_traveltime):\n",
    "    print('\\n****Clark-Wright****')\n",
    "    for key in day_traveltime.keys():\n",
    "        global opt_traveltime\n",
    "        print('\\n:::::::::::::',key,':::::::::::::::::::')\n",
    "        max_start = 0\n",
    "        connect = []\n",
    "\n",
    "        clark = day_traveltime[key][0]\n",
    "        total_dist = day_traveltime[key][1]\n",
    "        \n",
    "        while len(clark) != 0:\n",
    "            maxsaving = 0\n",
    "            #print('total dist', total_dist)\n",
    "\n",
    "            for i in clark:\n",
    "                if i[2] >= maxsaving:\n",
    "                    maxsaving = i[2]\n",
    "                    max_start = i[0]\n",
    "                    temp = i\n",
    "            connect.append([temp[0], temp[1]])\n",
    "            #print('max saving', maxsaving)\n",
    "            total_dist -= maxsaving\n",
    "\n",
    "\n",
    "            for j in clark:\n",
    "                clark = [i for i in clark if i[0] != max_start]\n",
    "            #print('remainigs',clark)\n",
    "            #print('\\n')\n",
    "\n",
    "        opt_traveltime[key].append(connect)\n",
    "        opt_traveltime[key].append(total_dist)\n",
    "\n",
    "        print('RESULT:',opt_traveltime[key])\n",
    "    \n",
    "    \n",
    "    #print('\\n****Clark-Wright(Finished)****')\n",
    "    \n",
    "    "
   ]
  },
  {
   "cell_type": "code",
   "execution_count": 17,
   "id": "156ca4ff",
   "metadata": {
    "ExecuteTime": {
     "end_time": "2021-12-11T10:44:40.808748Z",
     "start_time": "2021-12-11T10:44:40.789742Z"
    },
    "scrolled": false
   },
   "outputs": [
    {
     "name": "stdout",
     "output_type": "stream",
     "text": [
      "\n",
      "****Clark-Wright****\n",
      "\n",
      "::::::::::::: Monday :::::::::::::::::::\n",
      "RESULT: [[[4, 5], [3, 6], [5, 6]], 8.500000000000002]\n",
      "\n",
      "::::::::::::: Tuesday :::::::::::::::::::\n",
      "RESULT: [[[4, 5], [5, 6]], 6.6]\n",
      "\n",
      "::::::::::::: Wednesday :::::::::::::::::::\n",
      "RESULT: [[[3, 6], [1, 5], [2, 3], [5, 6]], 9.200000000000001]\n",
      "\n",
      "::::::::::::: Thursday :::::::::::::::::::\n",
      "RESULT: [[[4, 5], [5, 6]], 6.6]\n",
      "\n",
      "::::::::::::: Friday :::::::::::::::::::\n",
      "RESULT: [[[4, 5], [3, 6], [5, 6]], 8.500000000000002]\n"
     ]
    }
   ],
   "source": [
    "cal_opt_time(day_traveltime)"
   ]
  },
  {
   "cell_type": "markdown",
   "id": "1f725d0a",
   "metadata": {},
   "source": [
    "# Visualize Clarke-Wright Heuristic schedule"
   ]
  },
  {
   "cell_type": "code",
   "execution_count": 18,
   "id": "fe558dd9",
   "metadata": {},
   "outputs": [],
   "source": [
    "def clack_sequence(k,i):\n",
    " \n",
    "    global n\n",
    "    n = 0\n",
    "    temp = k.pop(0)\n",
    "    if temp[0] == k[i][0]:\n",
    "        temp = deque(temp)\n",
    "        temp.appendleft(k[i][-1])\n",
    "        del k[i]\n",
    "        k = deque(k)\n",
    "        k.appendleft(list(temp))\n",
    "        k = list(k)\n",
    "        n = 1\n",
    "    elif temp[0] == k[i][-1]:\n",
    "        temp = deque(temp)\n",
    "        temp.appendleft(k[i][0])\n",
    "        del k[i]\n",
    "        k = deque(k)\n",
    "        k.appendleft(list(temp))\n",
    "        k = list(k)\n",
    "        n = 1\n",
    "    elif temp[-1] == k[i][0]:\n",
    "        temp.append(k[i][-1])\n",
    "        del k[i]\n",
    "        k = deque(k)\n",
    "        k.appendleft(temp)\n",
    "        k = list(k)\n",
    "        n =1\n",
    "    elif temp[-1] == k[i][-1]:\n",
    "        temp.append(k[i][0])\n",
    "        del k[i]\n",
    "        k = deque(k)\n",
    "        k.appendleft(temp)\n",
    "        k = list(k)\n",
    "        n =1\n",
    "    else:\n",
    "        k = deque(k)\n",
    "        k.appendleft(temp)\n",
    "        k = list(k)\n",
    "    \n",
    "    return k"
   ]
  },
  {
   "cell_type": "code",
   "execution_count": 19,
   "id": "b0cddf15",
   "metadata": {},
   "outputs": [],
   "source": [
    "def make_sequence(k):\n",
    "    while len(k) != 1:\n",
    "        for i in range(len(k)-1):\n",
    "            k = clack_sequence(k,i)\n",
    "            if n == 1: \n",
    "                break\n",
    "    \n",
    "    return k"
   ]
  },
  {
   "cell_type": "code",
   "execution_count": 20,
   "id": "8f508e9f",
   "metadata": {},
   "outputs": [],
   "source": [
    "def make_schedule():\n",
    "    global schedule\n",
    "    global test_schedule\n",
    "    global travel_time_day\n",
    "    \n",
    "    sequence_temp = []\n",
    "    for key in day_traveltime.keys():\n",
    "        sequence_temp.append(opt_traveltime[key][0])\n",
    "    \n",
    "    temp = []\n",
    "    schedule = []\n",
    "    for i in range(5):\n",
    "        temp.append(make_sequence(sequence_temp[i]))\n",
    "        schedule.append(temp[i][0])\n",
    "    \n",
    "    schedule_temp = deepcopy(schedule)\n",
    "    \n",
    "    test_schedule = []\n",
    "    for i in range(len(schedule)):\n",
    "        test_schedule.append(list(itertools.permutations(schedule_temp[i])))\n",
    "    \n",
    "    travel_time_day = []\n",
    "    for key in day_traveltime.keys():\n",
    "        travel_time_day.append(opt_traveltime[key][-1])"
   ]
  },
  {
   "cell_type": "code",
   "execution_count": 21,
   "id": "e48850c3",
   "metadata": {},
   "outputs": [
    {
     "name": "stdout",
     "output_type": "stream",
     "text": [
      "Monday:[4, 5, 6, 3]\n",
      "Tuesday:[4, 5, 6]\n",
      "Wednesday:[2, 3, 6, 5, 1]\n",
      "Thursday:[4, 5, 6]\n",
      "Friday:[4, 5, 6, 3]\n"
     ]
    }
   ],
   "source": [
    "make_schedule()\n",
    "print(f'Monday:{schedule[0]}')\n",
    "print(f'Tuesday:{schedule[1]}')\n",
    "print(f'Wednesday:{schedule[2]}')\n",
    "print(f'Thursday:{schedule[3]}')\n",
    "print(f'Friday:{schedule[4]}')"
   ]
  },
  {
   "cell_type": "markdown",
   "id": "86611986",
   "metadata": {},
   "source": [
    "# Step6. Pairwise exchange"
   ]
  },
  {
   "cell_type": "code",
   "execution_count": 22,
   "id": "21f3a9fd",
   "metadata": {},
   "outputs": [],
   "source": [
    "def pairwise_cost_day(order):\n",
    "    total_travel_time_test = 0\n",
    "    travel_time_best = round(travel_time_day[order],7) #부동소수점 오류 해결\n",
    "    new_order = 0\n",
    "    \n",
    "    for i in range(len(test_schedule[order])):\n",
    "        temp = deque(list(test_schedule[order][i]))\n",
    "        temp.appendleft(0)\n",
    "        temp.append(0)\n",
    "        \n",
    "        for j in range(len(temp)-1):\n",
    "            total_travel_time_test += vendor_dist[temp[j]][temp[j+1]]\n",
    "            total_travel_time_test = round(total_travel_time_test,7)    #부동소수점 오류 해결\n",
    "        if total_travel_time_test < travel_time_best:\n",
    "            travel_time_best = total_travel_time_test\n",
    "            new_order = temp\n",
    "            print(test_schedule[order][i])\n",
    "            print(travel_time_best)\n",
    "\n",
    "        total_travel_time_test = 0\n",
    "        \n",
    "    \n",
    "    return travel_time_best,new_order"
   ]
  },
  {
   "cell_type": "code",
   "execution_count": 23,
   "id": "4cb30dde",
   "metadata": {},
   "outputs": [],
   "source": [
    "def check_pairwise():\n",
    "    new_order = 0\n",
    "    week = ['월요일','화요일','수요일','목요일','금요일']\n",
    "    global check\n",
    "    check = 0\n",
    "    for i in range(5):\n",
    "        travel_time_day[i],new_order = pairwise_cost_day(i)\n",
    "        if new_order != 0:\n",
    "            print(f'{week[i]}의 vendor를 방문하는 순서가 바뀌었습니다')\n",
    "            schedule[i] = list(new_order)\n",
    "            check = 1\n",
    "    return schedule"
   ]
  },
  {
   "cell_type": "code",
   "execution_count": 24,
   "id": "4c644173",
   "metadata": {},
   "outputs": [
    {
     "name": "stdout",
     "output_type": "stream",
     "text": [
      "[[4, 5, 6, 3], [4, 5, 6], [2, 3, 6, 5, 1], [4, 5, 6], [4, 5, 6, 3]]\n",
      "no improvement\n"
     ]
    }
   ],
   "source": [
    "print(check_pairwise())\n",
    "if check == 1:\n",
    "    print('improvement occur')\n",
    "else:\n",
    "    print('no improvement')"
   ]
  },
  {
   "cell_type": "markdown",
   "id": "f21cdb5a",
   "metadata": {},
   "source": [
    "# Step 7. Calculate Total Time & Cost"
   ]
  },
  {
   "cell_type": "code",
   "execution_count": 25,
   "id": "9edb603b",
   "metadata": {
    "ExecuteTime": {
     "end_time": "2021-12-11T10:37:39.566533Z",
     "start_time": "2021-12-11T10:37:39.550575Z"
    }
   },
   "outputs": [],
   "source": [
    "def cal_total_cost(opt_traveltime, vvc):\n",
    "    global total_time\n",
    "    for key in opt_traveltime.keys():\n",
    "        total_time += opt_traveltime[key][1]\n",
    "    total_cost = total_time * vvc\n",
    "    \n",
    "    return total_cost"
   ]
  },
  {
   "cell_type": "code",
   "execution_count": 26,
   "id": "8f7f6810",
   "metadata": {
    "ExecuteTime": {
     "end_time": "2021-12-11T10:37:39.852977Z",
     "start_time": "2021-12-11T10:37:39.837992Z"
    }
   },
   "outputs": [],
   "source": [
    "total_travel_cost = cal_total_cost(opt_traveltime, vvc)"
   ]
  },
  {
   "cell_type": "code",
   "execution_count": 27,
   "id": "1c0d711d",
   "metadata": {},
   "outputs": [],
   "source": [
    "p_k = [[1],[2],[3],[4],[5],[6,7]]\n",
    "\n",
    "def cal_carrying_cost():\n",
    "    global total_carrying_cost\n",
    "    total_carrying_cost = 0\n",
    "    for i in p_k:\n",
    "        for j in i:\n",
    "            total_carrying_cost += (0.5*0.01*items[j-1][1]*items[j-1][2])/n_k[i[0]-1][1]\n",
    "    \n",
    "    return total_carrying_cost"
   ]
  },
  {
   "cell_type": "code",
   "execution_count": 28,
   "id": "18f470b3",
   "metadata": {},
   "outputs": [],
   "source": [
    "total_carrying_cost = cal_carrying_cost()"
   ]
  },
  {
   "cell_type": "code",
   "execution_count": 29,
   "id": "77b08bf6",
   "metadata": {},
   "outputs": [],
   "source": [
    "total_cost = total_carrying_cost + total_travel_cost"
   ]
  },
  {
   "cell_type": "code",
   "execution_count": 30,
   "id": "14f3a736",
   "metadata": {},
   "outputs": [
    {
     "data": {
      "text/plain": [
       "1280.8000000000002"
      ]
     },
     "execution_count": 30,
     "metadata": {},
     "output_type": "execute_result"
    }
   ],
   "source": [
    "total_cost"
   ]
  },
  {
   "cell_type": "markdown",
   "id": "67205b04",
   "metadata": {},
   "source": [
    "# Aggregate Code"
   ]
  },
  {
   "cell_type": "code",
   "execution_count": 31,
   "id": "3efe98e3",
   "metadata": {
    "ExecuteTime": {
     "end_time": "2021-12-11T11:00:03.148447Z",
     "start_time": "2021-12-11T11:00:03.140488Z"
    }
   },
   "outputs": [],
   "source": [
    "vendor_dist = [[0.0, 1.6, 0.6, 2.0, 1.7, 1.6, 1.5],\n",
    "               [1.6, 0.0, 1.9, 3.5, 0.7, 1.3, 3.1],\n",
    "               [0.6, 1.9, 0.0, 1.6, 2.2, 2.2, 1.6],\n",
    "               [2.0, 3.5, 1.6, 0.0, 3.7, 3.6, 1.4],\n",
    "               [1.7, 0.7, 2.2, 3.7, 0.0, 0.7, 3.1],\n",
    "               [1.6, 1.3, 2.2, 3.6, 0.7, 0.0, 2.7],\n",
    "               [1.5, 3.1, 1.6, 1.4, 3.1, 2.7, 0.0]]"
   ]
  },
  {
   "cell_type": "code",
   "execution_count": 32,
   "id": "621cf5ad",
   "metadata": {
    "ExecuteTime": {
     "end_time": "2021-12-11T11:00:03.481000Z",
     "start_time": "2021-12-11T11:00:03.468009Z"
    }
   },
   "outputs": [],
   "source": [
    "items = [[1, 1000, 10, 0],\n",
    "         [2, 200, 60 , 0], \n",
    "         [3, 300, 300 , 0], \n",
    "         [4, 400, 400, 0], \n",
    "         [5, 50, 4000, 0], \n",
    "         [6, 600, 200, 0], \n",
    "         [6, 700, 40 , 0]]"
   ]
  },
  {
   "cell_type": "code",
   "execution_count": 37,
   "id": "ec532330",
   "metadata": {
    "ExecuteTime": {
     "end_time": "2021-12-11T11:00:03.738213Z",
     "start_time": "2021-12-11T11:00:03.724205Z"
    }
   },
   "outputs": [],
   "source": [
    "alpha = 0\n",
    "cr = 0.01\n",
    "vvc = 12\n",
    "opt_cost = math.inf\n",
    "opt_alpha = 0"
   ]
  },
  {
   "cell_type": "code",
   "execution_count": 49,
   "id": "6568fca1",
   "metadata": {
    "ExecuteTime": {
     "end_time": "2021-12-11T11:00:04.506544Z",
     "start_time": "2021-12-11T11:00:04.476623Z"
    },
    "scrolled": false
   },
   "outputs": [
    {
     "name": "stdout",
     "output_type": "stream",
     "text": [
      "\n",
      "dtmin(k), dtmax(k) :\n",
      "\n",
      "[2.0, 3.2]\n",
      "[3.2, 3.2]\n",
      "[3.0, 4.0]\n",
      "[1.4, 3.4]\n",
      "[2.0, 3.2]\n",
      "[3.0, 3.0]\n",
      "\n",
      "nmin(k), nmax(k) :\n",
      "\n",
      "[1.141088661469096, 1.4433756729740645]\n",
      "[1.25, 1.25]\n",
      "[3.0618621784789726, 3.5355339059327378]\n",
      "[4.428074427700476, 6.900655593423543]\n",
      "[5.103103630798287, 6.454972243679028]\n",
      "[4.533823502911814, 4.533823502911814]\n",
      "\n",
      "\n",
      "Current alpha= 0 ----------------------------------------------------------------\n",
      "\n",
      "\n",
      "n(k), Revised n(k) :\n",
      "\n",
      "[1, 1]\n",
      "[1, 1]\n",
      "[3, 3]\n",
      "[4, 4]\n",
      "[5, 5]\n",
      "[5, 5]\n",
      "\n",
      "****Clark-Wright****\n",
      "\n",
      "::::::::::::: Monday :::::::::::::::::::\n",
      "RESULT: [[[4, 5], [3, 6], [5, 6]], 8.500000000000002]\n",
      "\n",
      "::::::::::::: Tuesday :::::::::::::::::::\n",
      "RESULT: [[[4, 5], [5, 6]], 6.6]\n",
      "\n",
      "::::::::::::: Wednesday :::::::::::::::::::\n",
      "RESULT: [[[3, 6], [1, 5], [2, 3], [5, 6]], 9.200000000000001]\n",
      "\n",
      "::::::::::::: Thursday :::::::::::::::::::\n",
      "RESULT: [[[4, 5], [5, 6]], 6.6]\n",
      "\n",
      "::::::::::::: Friday :::::::::::::::::::\n",
      "RESULT: [[[4, 5], [3, 6], [5, 6]], 8.500000000000002]\n",
      "\n",
      "<Sequence each day>\n",
      "Monday:[4, 5, 6, 3]\n",
      "Tuesday:[4, 5, 6]\n",
      "Wednesday:[2, 3, 6, 5, 1]\n",
      "Thursday:[4, 5, 6]\n",
      "Friday:[4, 5, 6, 3]\n",
      "\n",
      "\n",
      "After pairwise \n",
      "[[4, 5, 6, 3], [4, 5, 6], [2, 3, 6, 5, 1], [4, 5, 6], [4, 5, 6, 3]]\n",
      "no improvement\n",
      "\n",
      "TOTAL COST: 1280.8000000000002\n",
      "OPTIMUM COST: inf\n",
      "Optimum is Changed\n",
      "New: 1280.8000000000002\n",
      "\n",
      "\n",
      "\n",
      "Current alpha= 0.1 ----------------------------------------------------------------\n",
      "\n",
      "\n",
      "n(k), Revised n(k) :\n",
      "\n",
      "[1, 1]\n",
      "[1, 1]\n",
      "[3, 3]\n",
      "[5, 5]\n",
      "[5, 5]\n",
      "[5, 5]\n",
      "\n",
      "****Clark-Wright****\n",
      "\n",
      "::::::::::::: Monday :::::::::::::::::::\n",
      "RESULT: [[[4, 5], [3, 6], [5, 6]], 8.500000000000002]\n",
      "\n",
      "::::::::::::: Tuesday :::::::::::::::::::\n",
      "RESULT: [[[4, 5], [5, 6]], 6.6]\n",
      "\n",
      "::::::::::::: Wednesday :::::::::::::::::::\n",
      "RESULT: [[[4, 5], [1, 4], [3, 6], [2, 3], [5, 6]], 9.3]\n",
      "\n",
      "::::::::::::: Thursday :::::::::::::::::::\n",
      "RESULT: [[[4, 5], [5, 6]], 6.6]\n",
      "\n",
      "::::::::::::: Friday :::::::::::::::::::\n",
      "RESULT: [[[4, 5], [3, 6], [5, 6]], 8.500000000000002]\n",
      "\n",
      "<Sequence each day>\n",
      "Monday:[4, 5, 6, 3]\n",
      "Tuesday:[4, 5, 6]\n",
      "Wednesday:[1, 4, 5, 6, 3, 2]\n",
      "Thursday:[4, 5, 6]\n",
      "Friday:[4, 5, 6, 3]\n",
      "\n",
      "\n",
      "After pairwise \n",
      "[[4, 5, 6, 3], [4, 5, 6], [1, 4, 5, 6, 3, 2], [4, 5, 6], [4, 5, 6, 3]]\n",
      "no improvement\n",
      "\n",
      "TOTAL COST: 1242.0\n",
      "OPTIMUM COST: 1280.8000000000002\n",
      "Optimum is Changed\n",
      "New: 1242.0\n",
      "\n",
      "\n",
      "\n",
      "Current alpha= 0.2 ----------------------------------------------------------------\n",
      "\n",
      "\n",
      "n(k), Revised n(k) :\n",
      "\n",
      "[1, 1]\n",
      "[1, 1]\n",
      "[3, 3]\n",
      "[5, 5]\n",
      "[5, 5]\n",
      "[5, 5]\n",
      "\n",
      "****Clark-Wright****\n",
      "\n",
      "::::::::::::: Monday :::::::::::::::::::\n",
      "RESULT: [[[4, 5], [3, 6], [5, 6]], 8.500000000000002]\n",
      "\n",
      "::::::::::::: Tuesday :::::::::::::::::::\n",
      "RESULT: [[[4, 5], [5, 6]], 6.6]\n",
      "\n",
      "::::::::::::: Wednesday :::::::::::::::::::\n",
      "RESULT: [[[4, 5], [1, 4], [3, 6], [2, 3], [5, 6]], 9.3]\n",
      "\n",
      "::::::::::::: Thursday :::::::::::::::::::\n",
      "RESULT: [[[4, 5], [5, 6]], 6.6]\n",
      "\n",
      "::::::::::::: Friday :::::::::::::::::::\n",
      "RESULT: [[[4, 5], [3, 6], [5, 6]], 8.500000000000002]\n",
      "\n",
      "<Sequence each day>\n",
      "Monday:[4, 5, 6, 3]\n",
      "Tuesday:[4, 5, 6]\n",
      "Wednesday:[1, 4, 5, 6, 3, 2]\n",
      "Thursday:[4, 5, 6]\n",
      "Friday:[4, 5, 6, 3]\n",
      "\n",
      "\n",
      "After pairwise \n",
      "[[4, 5, 6, 3], [4, 5, 6], [1, 4, 5, 6, 3, 2], [4, 5, 6], [4, 5, 6, 3]]\n",
      "no improvement\n",
      "\n",
      "TOTAL COST: 1242.0\n",
      "OPTIMUM COST: 1242.0\n",
      "Optimum is NOT Changed: 1242.0\n",
      "\n",
      "\n",
      "\n",
      "Current alpha= 0.3 ----------------------------------------------------------------\n",
      "\n",
      "\n",
      "n(k), Revised n(k) :\n",
      "\n",
      "[1, 1]\n",
      "[1, 1]\n",
      "[3, 3]\n",
      "[5, 5]\n",
      "[6, 5]\n",
      "[5, 5]\n",
      "\n",
      "****Clark-Wright****\n",
      "\n",
      "::::::::::::: Monday :::::::::::::::::::\n",
      "RESULT: [[[4, 5], [3, 6], [5, 6]], 8.500000000000002]\n",
      "\n",
      "::::::::::::: Tuesday :::::::::::::::::::\n",
      "RESULT: [[[4, 5], [5, 6]], 6.6]\n",
      "\n",
      "::::::::::::: Wednesday :::::::::::::::::::\n",
      "RESULT: [[[4, 5], [1, 4], [3, 6], [2, 3], [5, 6]], 9.3]\n",
      "\n",
      "::::::::::::: Thursday :::::::::::::::::::\n",
      "RESULT: [[[4, 5], [5, 6]], 6.6]\n",
      "\n",
      "::::::::::::: Friday :::::::::::::::::::\n",
      "RESULT: [[[4, 5], [3, 6], [5, 6]], 8.500000000000002]\n",
      "\n",
      "<Sequence each day>\n",
      "Monday:[4, 5, 6, 3]\n",
      "Tuesday:[4, 5, 6]\n",
      "Wednesday:[1, 4, 5, 6, 3, 2]\n",
      "Thursday:[4, 5, 6]\n",
      "Friday:[4, 5, 6, 3]\n",
      "\n",
      "\n",
      "After pairwise \n",
      "[[4, 5, 6, 3], [4, 5, 6], [1, 4, 5, 6, 3, 2], [4, 5, 6], [4, 5, 6, 3]]\n",
      "no improvement\n",
      "\n",
      "TOTAL COST: 1242.0\n",
      "OPTIMUM COST: 1242.0\n",
      "Optimum is NOT Changed: 1242.0\n",
      "\n",
      "\n",
      "\n",
      "Current alpha= 0.4 ----------------------------------------------------------------\n",
      "\n",
      "\n",
      "n(k), Revised n(k) :\n",
      "\n",
      "[1, 1]\n",
      "[1, 1]\n",
      "[3, 3]\n",
      "[5, 5]\n",
      "[6, 5]\n",
      "[5, 5]\n",
      "\n",
      "****Clark-Wright****\n",
      "\n",
      "::::::::::::: Monday :::::::::::::::::::\n",
      "RESULT: [[[4, 5], [3, 6], [5, 6]], 8.500000000000002]\n",
      "\n",
      "::::::::::::: Tuesday :::::::::::::::::::\n",
      "RESULT: [[[4, 5], [5, 6]], 6.6]\n",
      "\n",
      "::::::::::::: Wednesday :::::::::::::::::::\n",
      "RESULT: [[[4, 5], [1, 4], [3, 6], [2, 3], [5, 6]], 9.3]\n",
      "\n",
      "::::::::::::: Thursday :::::::::::::::::::\n",
      "RESULT: [[[4, 5], [5, 6]], 6.6]\n",
      "\n",
      "::::::::::::: Friday :::::::::::::::::::\n",
      "RESULT: [[[4, 5], [3, 6], [5, 6]], 8.500000000000002]\n",
      "\n",
      "<Sequence each day>\n",
      "Monday:[4, 5, 6, 3]\n",
      "Tuesday:[4, 5, 6]\n",
      "Wednesday:[1, 4, 5, 6, 3, 2]\n",
      "Thursday:[4, 5, 6]\n",
      "Friday:[4, 5, 6, 3]\n",
      "\n",
      "\n",
      "After pairwise \n",
      "[[4, 5, 6, 3], [4, 5, 6], [1, 4, 5, 6, 3, 2], [4, 5, 6], [4, 5, 6, 3]]\n",
      "no improvement\n",
      "\n",
      "TOTAL COST: 1242.0\n",
      "OPTIMUM COST: 1242.0\n",
      "Optimum is NOT Changed: 1242.0\n",
      "\n",
      "\n",
      "\n",
      "Current alpha= 0.5 ----------------------------------------------------------------\n",
      "\n",
      "\n",
      "n(k), Revised n(k) :\n",
      "\n",
      "[1, 1]\n",
      "[1, 1]\n",
      "[3, 3]\n",
      "[6, 5]\n",
      "[6, 5]\n",
      "[5, 5]\n",
      "\n",
      "****Clark-Wright****\n",
      "\n",
      "::::::::::::: Monday :::::::::::::::::::\n",
      "RESULT: [[[4, 5], [3, 6], [5, 6]], 8.500000000000002]\n",
      "\n",
      "::::::::::::: Tuesday :::::::::::::::::::\n",
      "RESULT: [[[4, 5], [5, 6]], 6.6]\n",
      "\n",
      "::::::::::::: Wednesday :::::::::::::::::::\n",
      "RESULT: [[[4, 5], [1, 4], [3, 6], [2, 3], [5, 6]], 9.3]\n",
      "\n",
      "::::::::::::: Thursday :::::::::::::::::::\n",
      "RESULT: [[[4, 5], [5, 6]], 6.6]\n",
      "\n",
      "::::::::::::: Friday :::::::::::::::::::\n",
      "RESULT: [[[4, 5], [3, 6], [5, 6]], 8.500000000000002]\n",
      "\n",
      "<Sequence each day>\n",
      "Monday:[4, 5, 6, 3]\n",
      "Tuesday:[4, 5, 6]\n",
      "Wednesday:[1, 4, 5, 6, 3, 2]\n",
      "Thursday:[4, 5, 6]\n",
      "Friday:[4, 5, 6, 3]\n",
      "\n",
      "\n",
      "After pairwise \n",
      "[[4, 5, 6, 3], [4, 5, 6], [1, 4, 5, 6, 3, 2], [4, 5, 6], [4, 5, 6, 3]]\n",
      "no improvement\n",
      "\n",
      "TOTAL COST: 1242.0\n",
      "OPTIMUM COST: 1242.0\n",
      "Optimum is NOT Changed: 1242.0\n",
      "\n",
      "\n",
      "\n",
      "Current alpha= 0.6 ----------------------------------------------------------------\n",
      "\n",
      "\n",
      "n(k), Revised n(k) :\n",
      "\n",
      "[1, 1]\n",
      "[1, 1]\n",
      "[3, 3]\n",
      "[6, 5]\n",
      "[6, 5]\n",
      "[5, 5]\n",
      "\n",
      "****Clark-Wright****\n",
      "\n",
      "::::::::::::: Monday :::::::::::::::::::\n",
      "RESULT: [[[4, 5], [3, 6], [5, 6]], 8.500000000000002]\n",
      "\n",
      "::::::::::::: Tuesday :::::::::::::::::::\n",
      "RESULT: [[[4, 5], [5, 6]], 6.6]\n",
      "\n",
      "::::::::::::: Wednesday :::::::::::::::::::\n",
      "RESULT: [[[4, 5], [1, 4], [3, 6], [2, 3], [5, 6]], 9.3]\n",
      "\n",
      "::::::::::::: Thursday :::::::::::::::::::\n",
      "RESULT: [[[4, 5], [5, 6]], 6.6]\n",
      "\n",
      "::::::::::::: Friday :::::::::::::::::::\n",
      "RESULT: [[[4, 5], [3, 6], [5, 6]], 8.500000000000002]\n",
      "\n",
      "<Sequence each day>\n",
      "Monday:[4, 5, 6, 3]\n",
      "Tuesday:[4, 5, 6]\n",
      "Wednesday:[1, 4, 5, 6, 3, 2]\n",
      "Thursday:[4, 5, 6]\n",
      "Friday:[4, 5, 6, 3]\n",
      "\n",
      "\n",
      "After pairwise \n",
      "[[4, 5, 6, 3], [4, 5, 6], [1, 4, 5, 6, 3, 2], [4, 5, 6], [4, 5, 6, 3]]\n",
      "no improvement\n",
      "\n",
      "TOTAL COST: 1242.0\n",
      "OPTIMUM COST: 1242.0\n",
      "Optimum is NOT Changed: 1242.0\n",
      "\n",
      "\n",
      "\n",
      "Current alpha= 0.7 ----------------------------------------------------------------\n",
      "\n",
      "\n",
      "n(k), Revised n(k) :\n",
      "\n",
      "[1, 1]\n",
      "[1, 1]\n",
      "[3, 3]\n",
      "[6, 5]\n",
      "[6, 5]\n",
      "[5, 5]\n",
      "\n",
      "****Clark-Wright****\n",
      "\n",
      "::::::::::::: Monday :::::::::::::::::::\n",
      "RESULT: [[[4, 5], [3, 6], [5, 6]], 8.500000000000002]\n",
      "\n",
      "::::::::::::: Tuesday :::::::::::::::::::\n",
      "RESULT: [[[4, 5], [5, 6]], 6.6]\n",
      "\n",
      "::::::::::::: Wednesday :::::::::::::::::::\n",
      "RESULT: [[[4, 5], [1, 4], [3, 6], [2, 3], [5, 6]], 9.3]\n",
      "\n",
      "::::::::::::: Thursday :::::::::::::::::::\n",
      "RESULT: [[[4, 5], [5, 6]], 6.6]\n",
      "\n",
      "::::::::::::: Friday :::::::::::::::::::\n",
      "RESULT: [[[4, 5], [3, 6], [5, 6]], 8.500000000000002]\n",
      "\n",
      "<Sequence each day>\n",
      "Monday:[4, 5, 6, 3]\n",
      "Tuesday:[4, 5, 6]\n",
      "Wednesday:[1, 4, 5, 6, 3, 2]\n",
      "Thursday:[4, 5, 6]\n",
      "Friday:[4, 5, 6, 3]\n",
      "\n",
      "\n",
      "After pairwise \n",
      "[[4, 5, 6, 3], [4, 5, 6], [1, 4, 5, 6, 3, 2], [4, 5, 6], [4, 5, 6, 3]]\n",
      "no improvement\n",
      "\n",
      "TOTAL COST: 1242.0\n",
      "OPTIMUM COST: 1242.0\n",
      "Optimum is NOT Changed: 1242.0\n",
      "\n",
      "\n",
      "\n",
      "Current alpha= 0.8 ----------------------------------------------------------------\n",
      "\n",
      "\n",
      "n(k), Revised n(k) :\n",
      "\n",
      "[1, 1]\n",
      "[1, 1]\n",
      "[3, 3]\n",
      "[6, 5]\n",
      "[6, 5]\n",
      "[5, 5]\n",
      "\n",
      "****Clark-Wright****\n",
      "\n",
      "::::::::::::: Monday :::::::::::::::::::\n",
      "RESULT: [[[4, 5], [3, 6], [5, 6]], 8.500000000000002]\n",
      "\n",
      "::::::::::::: Tuesday :::::::::::::::::::\n",
      "RESULT: [[[4, 5], [5, 6]], 6.6]\n",
      "\n",
      "::::::::::::: Wednesday :::::::::::::::::::\n",
      "RESULT: [[[4, 5], [1, 4], [3, 6], [2, 3], [5, 6]], 9.3]\n",
      "\n",
      "::::::::::::: Thursday :::::::::::::::::::\n",
      "RESULT: [[[4, 5], [5, 6]], 6.6]\n",
      "\n",
      "::::::::::::: Friday :::::::::::::::::::\n",
      "RESULT: [[[4, 5], [3, 6], [5, 6]], 8.500000000000002]\n",
      "\n",
      "<Sequence each day>\n",
      "Monday:[4, 5, 6, 3]\n",
      "Tuesday:[4, 5, 6]\n",
      "Wednesday:[1, 4, 5, 6, 3, 2]\n",
      "Thursday:[4, 5, 6]\n",
      "Friday:[4, 5, 6, 3]\n",
      "\n",
      "\n",
      "After pairwise \n",
      "[[4, 5, 6, 3], [4, 5, 6], [1, 4, 5, 6, 3, 2], [4, 5, 6], [4, 5, 6, 3]]\n",
      "no improvement\n",
      "\n",
      "TOTAL COST: 1242.0\n",
      "OPTIMUM COST: 1242.0\n",
      "Optimum is NOT Changed: 1242.0\n",
      "\n",
      "\n",
      "\n",
      "Current alpha= 0.9 ----------------------------------------------------------------\n",
      "\n",
      "\n",
      "n(k), Revised n(k) :\n",
      "\n",
      "[1, 1]\n",
      "[1, 1]\n",
      "[3, 3]\n",
      "[7, 5]\n",
      "[6, 5]\n",
      "[5, 5]\n",
      "\n",
      "****Clark-Wright****\n",
      "\n",
      "::::::::::::: Monday :::::::::::::::::::\n",
      "RESULT: [[[4, 5], [3, 6], [5, 6]], 8.500000000000002]\n",
      "\n",
      "::::::::::::: Tuesday :::::::::::::::::::\n",
      "RESULT: [[[4, 5], [5, 6]], 6.6]\n",
      "\n",
      "::::::::::::: Wednesday :::::::::::::::::::\n",
      "RESULT: [[[4, 5], [1, 4], [3, 6], [2, 3], [5, 6]], 9.3]\n",
      "\n",
      "::::::::::::: Thursday :::::::::::::::::::\n",
      "RESULT: [[[4, 5], [5, 6]], 6.6]\n",
      "\n",
      "::::::::::::: Friday :::::::::::::::::::\n",
      "RESULT: [[[4, 5], [3, 6], [5, 6]], 8.500000000000002]\n",
      "\n",
      "<Sequence each day>\n",
      "Monday:[4, 5, 6, 3]\n",
      "Tuesday:[4, 5, 6]\n",
      "Wednesday:[1, 4, 5, 6, 3, 2]\n",
      "Thursday:[4, 5, 6]\n",
      "Friday:[4, 5, 6, 3]\n",
      "\n",
      "\n",
      "After pairwise \n",
      "[[4, 5, 6, 3], [4, 5, 6], [1, 4, 5, 6, 3, 2], [4, 5, 6], [4, 5, 6, 3]]\n",
      "no improvement\n",
      "\n",
      "TOTAL COST: 1242.0\n",
      "OPTIMUM COST: 1242.0\n",
      "Optimum is NOT Changed: 1242.0\n",
      "\n",
      "\n",
      "\n",
      "Current alpha= 1.0 ----------------------------------------------------------------\n",
      "\n",
      "\n",
      "n(k), Revised n(k) :\n",
      "\n",
      "[1, 1]\n",
      "[1, 1]\n",
      "[4, 4]\n",
      "[7, 5]\n",
      "[6, 5]\n",
      "[5, 5]\n",
      "\n",
      "****Clark-Wright****\n",
      "\n",
      "::::::::::::: Monday :::::::::::::::::::\n",
      "RESULT: [[[4, 5], [3, 6], [5, 6]], 8.500000000000002]\n",
      "\n",
      "::::::::::::: Tuesday :::::::::::::::::::\n",
      "RESULT: [[[4, 5], [3, 6], [5, 6]], 8.500000000000002]\n",
      "\n",
      "::::::::::::: Wednesday :::::::::::::::::::\n",
      "RESULT: [[[4, 5], [1, 4], [2, 6], [5, 6]], 7.9]\n",
      "\n",
      "::::::::::::: Thursday :::::::::::::::::::\n",
      "RESULT: [[[4, 5], [3, 6], [5, 6]], 8.500000000000002]\n",
      "\n",
      "::::::::::::: Friday :::::::::::::::::::\n",
      "RESULT: [[[4, 5], [3, 6], [5, 6]], 8.500000000000002]\n",
      "\n",
      "<Sequence each day>\n",
      "Monday:[4, 5, 6, 3]\n",
      "Tuesday:[4, 5, 6, 3]\n",
      "Wednesday:[1, 4, 5, 6, 2]\n",
      "Thursday:[4, 5, 6, 3]\n",
      "Friday:[4, 5, 6, 3]\n",
      "\n",
      "\n",
      "After pairwise \n",
      "[[4, 5, 6, 3], [4, 5, 6, 3], [1, 4, 5, 6, 2], [4, 5, 6, 3], [4, 5, 6, 3]]\n",
      "no improvement\n",
      "\n",
      "TOTAL COST: 1233.3000000000002\n",
      "OPTIMUM COST: 1242.0\n",
      "Optimum is Changed\n",
      "New: 1233.3000000000002\n",
      "\n",
      "\n",
      "\n",
      "************************************************************************************************************\n",
      "\n",
      "Final Result:\n",
      "Optimum Cost: 1233.3000000000002 \n",
      "Optimum alpha: 1.0\n"
     ]
    }
   ],
   "source": [
    "dt_minmax = []\n",
    "n_minmax = []\n",
    "cal_dt_minmax(vendor_dist)\n",
    "cal_n_minmax(vendor_dist,dt_minmax,cr,vvc)\n",
    "\n",
    "print('\\n')\n",
    "\n",
    "while alpha <= 1:\n",
    "    print('Current alpha=',round(alpha,2),'----------------------------------------------------------------\\n')\n",
    "    total_time = 0\n",
    "    n = []\n",
    "    visitday = {'Monday' : [], 'Tuesday' : [], 'Wednesday' : [], 'Thursday' : [], 'Friday' : []}\n",
    "    day_traveltime = {'Monday' : [], 'Tuesday' : [], 'Wednesday' : [], 'Thursday' : [], 'Friday' : []}\n",
    "    opt_traveltime = {'Monday' : [], 'Tuesday' : [], 'Wednesday' : [], 'Thursday' : [], 'Friday' : []}\n",
    "\n",
    "    cal_n(n_minmax)\n",
    "    assign_days(n)\n",
    "    cal_travel_time(visitday, vendor_dist)\n",
    "    cal_opt_time(day_traveltime)\n",
    "    \n",
    "    print('\\n<Sequence each day>')\n",
    "    make_schedule()\n",
    "    print(f'Monday:{schedule[0]}')\n",
    "    print(f'Tuesday:{schedule[1]}')\n",
    "    print(f'Wednesday:{schedule[2]}')\n",
    "    print(f'Thursday:{schedule[3]}')\n",
    "    print(f'Friday:{schedule[4]}')\n",
    "    \n",
    "    print('\\n')\n",
    "    print('After pairwise ')\n",
    "    \n",
    "    print(check_pairwise())\n",
    "    if check == 1:\n",
    "        print('improvement occur')\n",
    "    else:\n",
    "        print('no improvement')\n",
    "    \n",
    "    total_travel_cost = cal_total_cost(opt_traveltime, vvc)\n",
    "    total_carrying_cost = cal_carrying_cost()\n",
    "    total_cost = total_travel_cost + total_carrying_cost\n",
    "    \n",
    "    print('\\nTOTAL COST:',total_cost)\n",
    "    print('OPTIMUM COST:',opt_cost)\n",
    "      \n",
    "    if total_cost < opt_cost:\n",
    "        opt_cost = total_cost\n",
    "        opt_alpha = alpha\n",
    "        print('Optimum is Changed\\nNew:',opt_cost)\n",
    "    else:\n",
    "        print('Optimum is NOT Changed:',opt_cost)\n",
    "    \n",
    "    print('\\n\\n')\n",
    "    alpha += 0.1\n",
    "\n",
    "print('************************************************************************************************************\\n')\n",
    "print('Final Result:\\nOptimum Cost:',opt_cost,'\\nOptimum alpha:',round(opt_alpha,2))"
   ]
  },
  {
   "cell_type": "code",
   "execution_count": null,
   "id": "b7b588ff",
   "metadata": {},
   "outputs": [],
   "source": []
  },
  {
   "cell_type": "code",
   "execution_count": 47,
   "id": "d707e4e5",
   "metadata": {},
   "outputs": [],
   "source": [
    "def vendorpickup(vendor_dist, items):\n",
    "    dt_minmax = []\n",
    "    n_minmax = []\n",
    "    cal_dt_minmax(vendor_dist)\n",
    "    cal_n_minmax(vendor_dist,dt_minmax,cr,vvc)\n",
    "\n",
    "    print('\\n')\n",
    "\n",
    "    while alpha <= 1:\n",
    "        print('Current alpha=',round(alpha,2),'----------------------------------------------------------------\\n')\n",
    "        total_time = 0\n",
    "        n = []\n",
    "        visitday = {'Monday' : [], 'Tuesday' : [], 'Wednesday' : [], 'Thursday' : [], 'Friday' : []}\n",
    "        day_traveltime = {'Monday' : [], 'Tuesday' : [], 'Wednesday' : [], 'Thursday' : [], 'Friday' : []}\n",
    "        opt_traveltime = {'Monday' : [], 'Tuesday' : [], 'Wednesday' : [], 'Thursday' : [], 'Friday' : []}\n",
    "\n",
    "        cal_n(n_minmax)\n",
    "        assign_days(n)\n",
    "        cal_travel_time(visitday, vendor_dist)\n",
    "        cal_opt_time(day_traveltime)\n",
    "    \n",
    "        print('\\n<Sequence each day>')\n",
    "        make_schedule()\n",
    "        print(f'Monday:{schedule[0]}')\n",
    "        print(f'Tuesday:{schedule[1]}')\n",
    "        print(f'Wednesday:{schedule[2]}')\n",
    "        print(f'Thursday:{schedule[3]}')\n",
    "        print(f'Friday:{schedule[4]}')\n",
    "    \n",
    "        print('\\n')\n",
    "        print('After pairwise ')\n",
    "    \n",
    "        print(check_pairwise())\n",
    "        if check == 1:\n",
    "            print('improvement occur')\n",
    "        else:\n",
    "            print('no improvement')\n",
    "    \n",
    "        total_travel_cost = cal_total_cost(opt_traveltime, vvc)\n",
    "        total_carrying_cost = cal_carrying_cost()\n",
    "        total_cost = total_travel_cost + total_carrying_cost\n",
    "    \n",
    "        print('\\nTOTAL COST:',total_cost)\n",
    "        print('OPTIMUM COST:',opt_cost)\n",
    "      \n",
    "        if total_cost < opt_cost:\n",
    "            opt_cost = total_cost\n",
    "            opt_alpha = alpha\n",
    "            print('Optimum is Changed\\nNew:',opt_cost)\n",
    "        else:\n",
    "            print('Optimum is NOT Changed:',opt_cost)\n",
    "    \n",
    "        print('\\n\\n')\n",
    "        alpha += 0.1\n",
    "\n",
    "    print('************************************************************************************************************\\n')\n",
    "    print('Final Result:\\nOptimum Cost:',opt_cost,'\\nOptimum alpha:',round(opt_alpha,2))"
   ]
  },
  {
   "cell_type": "code",
   "execution_count": null,
   "id": "85edf37d",
   "metadata": {},
   "outputs": [],
   "source": []
  }
 ],
 "metadata": {
  "kernelspec": {
   "display_name": "Python 3",
   "language": "python",
   "name": "python3"
  },
  "language_info": {
   "codemirror_mode": {
    "name": "ipython",
    "version": 3
   },
   "file_extension": ".py",
   "mimetype": "text/x-python",
   "name": "python",
   "nbconvert_exporter": "python",
   "pygments_lexer": "ipython3",
   "version": "3.8.8"
  },
  "nbTranslate": {
   "displayLangs": [
    "*"
   ],
   "hotkey": "alt-t",
   "langInMainMenu": true,
   "sourceLang": "en",
   "targetLang": "fr",
   "useGoogleTranslate": true
  },
  "varInspector": {
   "cols": {
    "lenName": 16,
    "lenType": 16,
    "lenVar": 40
   },
   "kernels_config": {
    "python": {
     "delete_cmd_postfix": "",
     "delete_cmd_prefix": "del ",
     "library": "var_list.py",
     "varRefreshCmd": "print(var_dic_list())"
    },
    "r": {
     "delete_cmd_postfix": ") ",
     "delete_cmd_prefix": "rm(",
     "library": "var_list.r",
     "varRefreshCmd": "cat(var_dic_list()) "
    }
   },
   "types_to_exclude": [
    "module",
    "function",
    "builtin_function_or_method",
    "instance",
    "_Feature"
   ],
   "window_display": false
  }
 },
 "nbformat": 4,
 "nbformat_minor": 5
}
